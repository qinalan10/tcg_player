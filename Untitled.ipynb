{
 "cells": [
  {
   "cell_type": "code",
   "execution_count": 1,
   "id": "59b8d5db",
   "metadata": {},
   "outputs": [],
   "source": [
    "import tcgp_lib as tcg"
   ]
  },
  {
   "cell_type": "code",
   "execution_count": 2,
   "id": "68a333b2",
   "metadata": {},
   "outputs": [
    {
     "data": {
      "text/plain": [
       "143.87552199999996"
      ]
     },
     "execution_count": 2,
     "metadata": {},
     "output_type": "execute_result"
    }
   ],
   "source": [
    "tcg.buy_price(200)"
   ]
  },
  {
   "cell_type": "code",
   "execution_count": 2,
   "id": "02dc3def",
   "metadata": {},
   "outputs": [],
   "source": [
    "import psycopg2\n",
    "from config import *"
   ]
  },
  {
   "cell_type": "code",
   "execution_count": 4,
   "id": "e2ef6d3d",
   "metadata": {},
   "outputs": [],
   "source": [
    "def connect():\n",
    "    \n",
    "    # Set up a connection to the postgres server.\n",
    "    conn_string = \"host=\"+ PGHOST +\" port=\"+ \"5432\" +\" dbname=\"+ PGDATABASE +\" user=\" + PGUSER \\\n",
    "                  +\" password=\"+ PGPASSWORD\n",
    "    \n",
    "    conn = psycopg2.connect(conn_string)\n",
    "    print(\"Connected!\")\n",
    "\n",
    "    # Create a cursor object\n",
    "    cursor = conn.cursor()\n",
    "    \n",
    "    return conn, cursor"
   ]
  },
  {
   "cell_type": "code",
   "execution_count": 6,
   "id": "995e563f",
   "metadata": {},
   "outputs": [
    {
     "name": "stdout",
     "output_type": "stream",
     "text": [
      "Connected!\n"
     ]
    }
   ],
   "source": [
    "conn, cursor = connect()"
   ]
  },
  {
   "cell_type": "code",
   "execution_count": 9,
   "id": "b200a5e2",
   "metadata": {},
   "outputs": [
    {
     "ename": "InFailedSqlTransaction",
     "evalue": "current transaction is aborted, commands ignored until end of transaction block\n",
     "output_type": "error",
     "traceback": [
      "\u001b[0;31m---------------------------------------------------------------------------\u001b[0m",
      "\u001b[0;31mInFailedSqlTransaction\u001b[0m                    Traceback (most recent call last)",
      "\u001b[0;32m/var/folders/fg/gjgqsf0918g9y_cl1rr9nzmw0000gn/T/ipykernel_1580/3699159101.py\u001b[0m in \u001b[0;36m<module>\u001b[0;34m\u001b[0m\n\u001b[1;32m      5\u001b[0m \u001b[0;34m\u001b[0m\u001b[0m\n\u001b[1;32m      6\u001b[0m \u001b[0;31m# Execute SQL Command and commit to DB\u001b[0m\u001b[0;34m\u001b[0m\u001b[0;34m\u001b[0m\u001b[0;34m\u001b[0m\u001b[0m\n\u001b[0;32m----> 7\u001b[0;31m \u001b[0mcursor\u001b[0m\u001b[0;34m.\u001b[0m\u001b[0mexecute\u001b[0m\u001b[0;34m(\u001b[0m\u001b[0mcreate_table\u001b[0m\u001b[0;34m)\u001b[0m\u001b[0;34m\u001b[0m\u001b[0;34m\u001b[0m\u001b[0m\n\u001b[0m\u001b[1;32m      8\u001b[0m \u001b[0mconn\u001b[0m\u001b[0;34m.\u001b[0m\u001b[0mcommit\u001b[0m\u001b[0;34m(\u001b[0m\u001b[0;34m)\u001b[0m\u001b[0;34m\u001b[0m\u001b[0;34m\u001b[0m\u001b[0m\n\u001b[1;32m      9\u001b[0m \u001b[0;34m\u001b[0m\u001b[0m\n",
      "\u001b[0;31mInFailedSqlTransaction\u001b[0m: current transaction is aborted, commands ignored until end of transaction block\n"
     ]
    }
   ],
   "source": [
    "create_table = \"\"\"\n",
    "    DROP TABLE IF EXISTS buy_list\n",
    "    CREATE TABLE IF NOT EXISTS buy_list(\n",
    "        id TEXT PRIMARY KEY NOT NULL,\n",
    "        category TEXT,\n",
    "        image TEXT,\n",
    "        displayName TEXT,\n",
    "        urlHistory TEXT\n",
    "    )\n",
    "    \"\"\"\n",
    "\n",
    "# Execute SQL Command and commit to DB\n",
    "cursor.execute(create_table)\n",
    "conn.commit()\n",
    "\n",
    "# Disconnect from DB\n",
    "disconnect(conn, cursor)"
   ]
  },
  {
   "cell_type": "code",
   "execution_count": 5,
   "id": "2091043e",
   "metadata": {},
   "outputs": [
    {
     "name": "stdout",
     "output_type": "stream",
     "text": [
      "0: Mr Mime base set 2 mr mime \n",
      "\n",
      "1: Mr Mime 6 jungle mr mime 6 \n",
      "\n",
      "2: Ditto Mr Mime delta species \n",
      "\n",
      "3: Mr Mime 95a aquapolis mr mime 95a \n",
      "\n",
      "4: Mr Mime 95b aquapolis mr mime 95b \n",
      "\n",
      "5: Mr Mime mysterious treasures mr mime \n",
      "\n",
      "6: Mr Mime supreme victors mr mime \n",
      "\n",
      "7: Mr Mime call of legends mr mime \n",
      "\n",
      "8: Mr Mime plasma freeze mr mime \n",
      "\n",
      "9: Mr Mime xy base set mr mime \n",
      "\n",
      "10: Mr Mime E4 rising rivals mr mime e4 \n",
      "\n",
      "11: Mr Mime ex 110 firered and leafgreen mr mime ex 110 \n",
      "\n",
      "12: Mr Mime ex 111 firered and leafgreen mr mime ex 111 \n",
      "\n",
      "13: Sabrinas Mr Mime gym heroes sabrinas mr mime \n",
      "\n",
      "14: Mr Mime xy primal clash mr mime \n",
      "\n",
      "15: Mr Mime 22 jungle mr mime 22 \n",
      "\n",
      "16: Mr Mime xy breakthrough mr mime \n",
      "\n",
      "17: Mr Mime generations mr mime \n",
      "\n",
      "18: Mr Mime xy fates collide mr mime \n",
      "\n",
      "19: Mr Mime GX sm celestial storm mr mime gx \n",
      "\n",
      "20: Mr Mime GX Secret sm celestial storm mr mime gx secret \n",
      "\n",
      "21: Mr Mime sm team up mr mime \n",
      "\n",
      "22: Mr Mime GX sm team up mr mime gx \n",
      "\n",
      "23: Mr Mime detective \n",
      "\n",
      "24: Mr Mime hidden fates mr mime \n",
      "\n",
      "25: Galarian Mr Mime swsh02 rebel clash galarian mr mime \n",
      "\n",
      "26: Galarian Mr Mime swsh03 darkness ablaze galarian mr mime \n",
      "\n",
      "27: Galarian Mr Mime  \n",
      "\n",
      "28: Galarian Mr Mime swsh05 battle styles galarian mr mime \n",
      "\n"
     ]
    }
   ],
   "source": [
    "ids = tcg.get_product_ids('mr mime')\n",
    "_,x,ids = tcg.get_product_definitions_and_name(ids)"
   ]
  },
  {
   "cell_type": "code",
   "execution_count": 9,
   "id": "1ad93f5f",
   "metadata": {},
   "outputs": [
    {
     "name": "stdout",
     "output_type": "stream",
     "text": [
      "['0: Latios ex https://www.tcgplayer.com/product/86673/pokemon-dragon-latios-ex \\n', '1: Latios EX https://www.tcgplayer.com/product/86674/pokemon-plasma-freeze-latios-ex \\n', '2: Latios EX 113 Full Art https://www.tcgplayer.com/product/86676/pokemon-plasma-freeze-latios-ex-113-full-art \\n', '3: Latios EX https://www.tcgplayer.com/product/98094/pokemon-xy-roaring-skies-latios-ex \\n', '4: M Latios EX https://www.tcgplayer.com/product/98095/pokemon-xy-roaring-skies-m-latios-ex \\n', '5: Latios EX 101 Full Art https://www.tcgplayer.com/product/98137/pokemon-xy-roaring-skies-latios-ex-101-full-art \\n', '6: M Latios EX 102 Full Art https://www.tcgplayer.com/product/98138/pokemon-xy-roaring-skies-m-latios-ex-102-full-art \\n', '7: Latios EX https://www.tcgplayer.com/product/108602/pokemon-xy-promos-latios-ex \\n']\n"
     ]
    }
   ],
   "source": [
    "print(x)"
   ]
  },
  {
   "cell_type": "code",
   "execution_count": 27,
   "id": "f4a3a181",
   "metadata": {},
   "outputs": [],
   "source": [
    "import requests\n",
    "import pandas as pd \n",
    "import json \n",
    "from collections import defaultdict\n",
    "from config import *\n",
    "\n",
    "response = requests.post(\n",
    "            \"https://api.tcgplayer.com/token\",\n",
    "            \n",
    "            headers={\n",
    "                \"Content-Type\": \"application/json\",\n",
    "                \"Accept\": \"application/json\"},\n",
    "           \n",
    "            data=(f\"grant_type=client_credentials\"\n",
    "                  f\"&client_id={public_key}&\"\n",
    "                  f\"client_secret={private_key}\")\n",
    "        )\n",
    "access = response.json()['access_token']\n",
    "headers = {\"accept\": \"application/json\", \n",
    "           \"Content-Type\": \"application/json\",\n",
    "           'User-Agent': 'alan_qin',\n",
    "           \"Authorization\": \"bearer \" + access}    \n",
    "    \n",
    "endpoint = \"https://api.tcgplayer.com/catalog/products/\"\n",
    "productids = str(tcg.get_product_ids('arceus'))\n",
    "url = endpoint + productids\n",
    "parameters = {'getExtendedFields':True}\n",
    "response = requests.get( url, headers=headers, params = parameters)\n",
    "product_definitions = response.json()['results']\n"
   ]
  },
  {
   "cell_type": "code",
   "execution_count": 13,
   "id": "3543d74d",
   "metadata": {},
   "outputs": [],
   "source": []
  },
  {
   "cell_type": "code",
   "execution_count": 30,
   "id": "994b072b",
   "metadata": {},
   "outputs": [
    {
     "name": "stdout",
     "output_type": "stream",
     "text": [
      "['pokemon', 'arceus', 'arceus', 'ar1']\n",
      "[]\n",
      "['pokemon', 'arceus', 'arceus', 'ar2']\n",
      "[]\n",
      "['pokemon', 'arceus', 'arceus', 'ar3']\n",
      "[]\n",
      "['pokemon', 'arceus', 'arceus', 'ar4']\n",
      "[]\n",
      "['pokemon', 'arceus', 'arceus', 'ar5']\n",
      "[]\n",
      "['pokemon', 'arceus', 'arceus', 'ar6']\n",
      "[]\n",
      "['pokemon', 'arceus', 'arceus', 'ar7']\n",
      "[]\n",
      "['pokemon', 'arceus', 'arceus', 'ar8']\n",
      "[]\n",
      "['pokemon', 'arceus', 'arceus', 'ar9']\n",
      "[]\n",
      "['pokemon', 'diamond', 'and', 'pearl', 'promos', 'arceus', 'dp50']\n",
      "['diamond', 'and', 'pearl', 'promos']\n",
      "['pokemon', 'arceus', 'arceus', 'lvx', '94']\n",
      "[]\n",
      "['pokemon', 'arceus', 'arceus', 'lvx', '95']\n",
      "[]\n",
      "['pokemon', 'arceus', 'arceus', 'lvx', '96']\n",
      "[]\n",
      "['pokemon', 'diamond', 'and', 'pearl', 'promos', 'arceus', 'lvx', 'dp53']\n",
      "['diamond', 'and', 'pearl', 'promos']\n",
      "['pokemon', 'diamond', 'and', 'pearl', 'promos', 'arceus', 'lvx', 'dp56']\n",
      "['diamond', 'and', 'pearl', 'promos']\n",
      "['pokemon', 'arceus', 'arceus', 'booster', 'box']\n",
      "[]\n",
      "['pokemon', 'xy', 'promos', 'arceus', 'xy83']\n",
      "['xy', 'promos']\n",
      "['pokemon', 'generations', 'mythical', 'pokemon', 'collection', 'box', 'arceus']\n",
      "['generations', 'mythical', 'pokemon', 'collection', 'box']\n",
      "['pokemon', 'xy', 'promos', 'arceus', 'xy116']\n",
      "['xy', 'promos']\n",
      "['pokemon', 'deck', 'exclusives', 'tangrowth', 'dppt', 'arceus']\n",
      "['deck', 'exclusives']\n",
      "['pokemon', 'deck', 'exclusives', 'swalot', 'dppt', 'arceus']\n",
      "['deck', 'exclusives']\n",
      "['pokemon', 'xy', 'promos', 'arceus', 'xy197']\n",
      "['xy', 'promos']\n",
      "['pokemon', 'shining', 'legends', 'shining', 'arceus']\n",
      "[]\n",
      "['pokemon', 'sm', 'forbidden', 'light', 'arceus', 'prism', 'star']\n",
      "['sm', 'forbidden', 'light']\n",
      "['pokemon', 'sm', 'cosmic', 'eclipse', 'arceus', 'and', 'dialga', 'and', 'palkia', 'gx']\n",
      "['sm', 'cosmic', 'eclipse']\n",
      "['pokemon', 'sm', 'cosmic', 'eclipse', 'arceus', 'and', 'dialga', 'and', 'palkia', 'gx', 'full', 'art']\n",
      "['sm', 'cosmic', 'eclipse']\n",
      "['pokemon', 'sm', 'cosmic', 'eclipse', 'arceus', 'and', 'dialga', 'and', 'palkia', 'gx', 'secret']\n",
      "['sm', 'cosmic', 'eclipse']\n",
      "['pokemon', 'jumbo', 'cards', 'arceus', 'dp50', 'dp', 'black', 'star', 'promos']\n",
      "['jumbo', 'cards']\n",
      "['pokemon', 'generations', 'code', 'card', 'mythical', 'pokemon', 'collection', 'box', 'arceus']\n",
      "['generations', 'code', 'card', 'mythical', 'pokemon', 'collection', 'box']\n",
      "['pokemon', 'swsh09', 'brilliant', 'stars', 'arceus', 'v']\n",
      "['swsh09', 'brilliant', 'stars']\n",
      "['pokemon', 'swsh09', 'brilliant', 'stars', 'arceus', 'vstar']\n",
      "['swsh09', 'brilliant', 'stars']\n",
      "['pokemon', 'swsh09', 'brilliant', 'stars', 'arceus', 'v', 'full', 'art']\n",
      "['swsh09', 'brilliant', 'stars']\n",
      "['pokemon', 'swsh09', 'brilliant', 'stars', 'arceus', 'v', 'alternate', 'full', 'art']\n",
      "['swsh09', 'brilliant', 'stars']\n",
      "['pokemon', 'swsh09', 'brilliant', 'stars', 'arceus', 'vstar', 'secret', '176']\n",
      "['swsh09', 'brilliant', 'stars']\n",
      "['pokemon', 'swsh09', 'brilliant', 'stars', 'arceus', 'vstar', 'secret', '184']\n",
      "['swsh09', 'brilliant', 'stars']\n"
     ]
    }
   ],
   "source": [
    "\n",
    "\n",
    "for i in product_definitions:\n",
    "    string = i['url'].split('/')\n",
    "    set_name= string[5].split('-')\n",
    "    ls = []\n",
    "    print(set_name)\n",
    "    for arr in set_name[1:]:\n",
    "        if ((arr in pokemon_names or arr in name_exclusions)):\n",
    "            break\n",
    "        ls.append(arr)\n",
    "    \n",
    "#         print(arr)\n",
    "#         ls.append(arr)\n"
   ]
  }
 ],
 "metadata": {
  "kernelspec": {
   "display_name": "Python 3 (ipykernel)",
   "language": "python",
   "name": "python3"
  },
  "language_info": {
   "codemirror_mode": {
    "name": "ipython",
    "version": 3
   },
   "file_extension": ".py",
   "mimetype": "text/x-python",
   "name": "python",
   "nbconvert_exporter": "python",
   "pygments_lexer": "ipython3",
   "version": "3.8.5"
  }
 },
 "nbformat": 4,
 "nbformat_minor": 5
}
