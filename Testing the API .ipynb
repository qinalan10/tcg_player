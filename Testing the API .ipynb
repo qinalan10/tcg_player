{
 "cells": [
  {
   "cell_type": "code",
   "execution_count": 1,
   "id": "58a0b521",
   "metadata": {},
   "outputs": [],
   "source": [
    "import tcgp_lib as tcg"
   ]
  },
  {
   "cell_type": "code",
   "execution_count": 2,
   "id": "93bcb611",
   "metadata": {},
   "outputs": [
    {
     "data": {
      "text/plain": [
       "[226129,\n",
       " 200353,\n",
       " 89938,\n",
       " 89931,\n",
       " 89932,\n",
       " 89929,\n",
       " 89934,\n",
       " 189234,\n",
       " 89928,\n",
       " 89933,\n",
       " 98079,\n",
       " 89936,\n",
       " 46478,\n",
       " 89937,\n",
       " 89930,\n",
       " 89935]"
      ]
     },
     "execution_count": 2,
     "metadata": {},
     "output_type": "execute_result"
    }
   ],
   "source": [
    "x = tcg.get_product_ids('togepi')\n",
    "x"
   ]
  },
  {
   "cell_type": "code",
   "execution_count": 3,
   "id": "005e7e68",
   "metadata": {},
   "outputs": [],
   "source": [
    "names, descs, product_ids =tcg.get_product_definitions_and_name(x)"
   ]
  },
  {
   "cell_type": "code",
   "execution_count": 11,
   "id": "9654ad5d",
   "metadata": {},
   "outputs": [
    {
     "data": {
      "text/plain": [
       "['0: Togepi https://www.tcgplayer.com/product/46478/pokemon-southern-islands-togepi',\n",
       " '1: Togepi https://www.tcgplayer.com/product/89928/pokemon-wotc-promo-togepi',\n",
       " '2: Togepi https://www.tcgplayer.com/product/89929/pokemon-neo-genesis-togepi',\n",
       " '3: Togepi https://www.tcgplayer.com/product/89930/pokemon-neo-destiny-togepi',\n",
       " '4: Togepi https://www.tcgplayer.com/product/89931/pokemon-aquapolis-togepi',\n",
       " '5: Togepi https://www.tcgplayer.com/product/89932/pokemon-hidden-legends-togepi',\n",
       " '6: Togepi https://www.tcgplayer.com/product/89933/pokemon-team-rocket-returns-togepi',\n",
       " '7: Togepi https://www.tcgplayer.com/product/89934/pokemon-great-encounters-togepi',\n",
       " '8: Togepi https://www.tcgplayer.com/product/89936/pokemon-boundaries-crossed-togepi',\n",
       " '9: Togepi https://www.tcgplayer.com/product/89937/pokemon-plasma-storm-togepi',\n",
       " '10: Togepi Delta Species https://www.tcgplayer.com/product/89938/pokemon-dragon-frontiers-togepi-delta-species',\n",
       " '11: Togepi https://www.tcgplayer.com/product/98079/pokemon-xy-roaring-skies-togepi',\n",
       " '12: Togepi https://www.tcgplayer.com/product/189234/pokemon-sm-unbroken-bonds-togepi',\n",
       " '13: Togepi and Cleffa and Igglybuff GX https://www.tcgplayer.com/product/200353/pokemon-sm-cosmic-eclipse-togepi-and-cleffa-and-igglybuff-gx']"
      ]
     },
     "execution_count": 11,
     "metadata": {},
     "output_type": "execute_result"
    }
   ],
   "source": [
    "descs"
   ]
  },
  {
   "cell_type": "code",
   "execution_count": 7,
   "id": "7a2872f8",
   "metadata": {},
   "outputs": [],
   "source": [
    "x = tcg.get_select_product(product_ids, 10)"
   ]
  },
  {
   "cell_type": "code",
   "execution_count": 9,
   "id": "1e2bfad2",
   "metadata": {},
   "outputs": [
    {
     "data": {
      "text/plain": [
       "{'success': True,\n",
       " 'errors': [],\n",
       " 'results': [{'productId': 89938,\n",
       "   'lowPrice': 0.36,\n",
       "   'midPrice': 1.8,\n",
       "   'highPrice': 5.0,\n",
       "   'marketPrice': 1.89,\n",
       "   'directLowPrice': 5.0,\n",
       "   'subTypeName': 'Normal'},\n",
       "  {'productId': 89938,\n",
       "   'lowPrice': None,\n",
       "   'midPrice': None,\n",
       "   'highPrice': None,\n",
       "   'marketPrice': None,\n",
       "   'directLowPrice': None,\n",
       "   'subTypeName': 'Holofoil'},\n",
       "  {'productId': 89938,\n",
       "   'lowPrice': None,\n",
       "   'midPrice': None,\n",
       "   'highPrice': None,\n",
       "   'marketPrice': None,\n",
       "   'directLowPrice': None,\n",
       "   'subTypeName': '1st Edition Holofoil'},\n",
       "  {'productId': 89938,\n",
       "   'lowPrice': None,\n",
       "   'midPrice': None,\n",
       "   'highPrice': None,\n",
       "   'marketPrice': None,\n",
       "   'directLowPrice': None,\n",
       "   'subTypeName': '1st Edition'},\n",
       "  {'productId': 89938,\n",
       "   'lowPrice': 5.0,\n",
       "   'midPrice': 12.08,\n",
       "   'highPrice': 14.99,\n",
       "   'marketPrice': 7.72,\n",
       "   'directLowPrice': None,\n",
       "   'subTypeName': 'Reverse Holofoil'},\n",
       "  {'productId': 89938,\n",
       "   'lowPrice': None,\n",
       "   'midPrice': None,\n",
       "   'highPrice': None,\n",
       "   'marketPrice': None,\n",
       "   'directLowPrice': None,\n",
       "   'subTypeName': 'Unlimited'},\n",
       "  {'productId': 89938,\n",
       "   'lowPrice': None,\n",
       "   'midPrice': None,\n",
       "   'highPrice': None,\n",
       "   'marketPrice': None,\n",
       "   'directLowPrice': None,\n",
       "   'subTypeName': 'Unlimited Holofoil'}]}"
      ]
     },
     "execution_count": 9,
     "metadata": {},
     "output_type": "execute_result"
    }
   ],
   "source": [
    "tcg.get_price(str(x))"
   ]
  },
  {
   "cell_type": "code",
   "execution_count": 15,
   "id": "302fed17",
   "metadata": {},
   "outputs": [],
   "source": [
    "def get_select_product(names:[str], descs:[str], number:int, product_ids:[str]) -> int:\n",
    "    selected_name = names[number]\n",
    "    print(selected_name)\n",
    "    print(product_ids[number])\n",
    "#     for i in product_ids:\n",
    "#         if (i['cleanName'] == selected_name):\n",
    "#             print(i)\n",
    "    "
   ]
  },
  {
   "cell_type": "code",
   "execution_count": 16,
   "id": "3e8ef5ea",
   "metadata": {},
   "outputs": [
    {
     "name": "stdout",
     "output_type": "stream",
     "text": [
      "Togepi Delta Species\n",
      "98079\n"
     ]
    }
   ],
   "source": [
    "get_select_product(names = a, descs = b, number = 10, product_ids = x)"
   ]
  },
  {
   "cell_type": "code",
   "execution_count": 3,
   "id": "ba28b611",
   "metadata": {},
   "outputs": [
    {
     "data": {
      "text/plain": [
       "{'success': True,\n",
       " 'errors': [],\n",
       " 'results': [{'productId': 98079,\n",
       "   'lowPrice': 0.05,\n",
       "   'midPrice': 0.25,\n",
       "   'highPrice': 1.0,\n",
       "   'marketPrice': 0.23,\n",
       "   'directLowPrice': 0.24,\n",
       "   'subTypeName': 'Normal'},\n",
       "  {'productId': 98079,\n",
       "   'lowPrice': None,\n",
       "   'midPrice': None,\n",
       "   'highPrice': None,\n",
       "   'marketPrice': None,\n",
       "   'directLowPrice': None,\n",
       "   'subTypeName': 'Holofoil'},\n",
       "  {'productId': 98079,\n",
       "   'lowPrice': None,\n",
       "   'midPrice': None,\n",
       "   'highPrice': None,\n",
       "   'marketPrice': None,\n",
       "   'directLowPrice': None,\n",
       "   'subTypeName': '1st Edition'},\n",
       "  {'productId': 98079,\n",
       "   'lowPrice': 0.19,\n",
       "   'midPrice': 0.4,\n",
       "   'highPrice': 1.95,\n",
       "   'marketPrice': 0.29,\n",
       "   'directLowPrice': 0.29,\n",
       "   'subTypeName': 'Reverse Holofoil'},\n",
       "  {'productId': 98079,\n",
       "   'lowPrice': None,\n",
       "   'midPrice': None,\n",
       "   'highPrice': None,\n",
       "   'marketPrice': None,\n",
       "   'directLowPrice': None,\n",
       "   'subTypeName': '1st Edition Holofoil'},\n",
       "  {'productId': 98079,\n",
       "   'lowPrice': None,\n",
       "   'midPrice': None,\n",
       "   'highPrice': None,\n",
       "   'marketPrice': None,\n",
       "   'directLowPrice': None,\n",
       "   'subTypeName': 'Unlimited'},\n",
       "  {'productId': 98079,\n",
       "   'lowPrice': None,\n",
       "   'midPrice': None,\n",
       "   'highPrice': None,\n",
       "   'marketPrice': None,\n",
       "   'directLowPrice': None,\n",
       "   'subTypeName': 'Unlimited Holofoil'}]}"
      ]
     },
     "execution_count": 3,
     "metadata": {},
     "output_type": "execute_result"
    }
   ],
   "source": [
    "tcg.get_price('98079')"
   ]
  }
 ],
 "metadata": {
  "kernelspec": {
   "display_name": "Python 3 (ipykernel)",
   "language": "python",
   "name": "python3"
  },
  "language_info": {
   "codemirror_mode": {
    "name": "ipython",
    "version": 3
   },
   "file_extension": ".py",
   "mimetype": "text/x-python",
   "name": "python",
   "nbconvert_exporter": "python",
   "pygments_lexer": "ipython3",
   "version": "3.8.5"
  }
 },
 "nbformat": 4,
 "nbformat_minor": 5
}
